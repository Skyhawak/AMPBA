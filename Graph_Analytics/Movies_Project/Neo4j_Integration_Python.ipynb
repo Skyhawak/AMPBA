{
 "cells": [
  {
   "cell_type": "code",
   "execution_count": 1,
   "id": "af752486",
   "metadata": {},
   "outputs": [
    {
     "name": "stdout",
     "output_type": "stream",
     "text": [
      "Collecting neo4j\n",
      "  Downloading neo4j-5.22.0-py3-none-any.whl (293 kB)\n",
      "\u001b[2K     \u001b[90m━━━━━━━━━━━━━━━━━━━━━━━━━━━━━━━━━━━━━━\u001b[0m \u001b[32m293.5/293.5 kB\u001b[0m \u001b[31m66.5 kB/s\u001b[0m eta \u001b[36m0:00:00\u001b[0m00:01\u001b[0m00:01\u001b[0m\n",
      "\u001b[?25hRequirement already satisfied: pytz in /Users/venurani/opt/anaconda3/lib/python3.9/site-packages (from neo4j) (2022.7)\n",
      "Installing collected packages: neo4j\n",
      "Successfully installed neo4j-5.22.0\n"
     ]
    }
   ],
   "source": [
    "!pip install neo4j"
   ]
  },
  {
   "cell_type": "code",
   "execution_count": 2,
   "id": "c8fc4eab",
   "metadata": {},
   "outputs": [],
   "source": [
    "from neo4j import GraphDatabasephDatabase"
   ]
  },
  {
   "cell_type": "code",
   "execution_count": 20,
   "id": "fd95641f",
   "metadata": {},
   "outputs": [],
   "source": [
    "GP_db=GraphDatabase.driver(uri='bolt://localhost:7687',auth=('neo4j','admin'))"
   ]
  },
  {
   "cell_type": "code",
   "execution_count": 21,
   "id": "78855302",
   "metadata": {},
   "outputs": [],
   "source": [
    "# Function used to execute Cypher queries\n",
    "def execute_query(query):\n",
    "    with GP_db.session() as session:\n",
    "        result = session.run(query)\n",
    "        return result"
   ]
  },
  {
   "cell_type": "code",
   "execution_count": 22,
   "id": "6c47b068",
   "metadata": {},
   "outputs": [
    {
     "data": {
      "text/plain": [
       "<neo4j._sync.work.result.Result at 0x7fcde058ee80>"
      ]
     },
     "execution_count": 22,
     "metadata": {},
     "output_type": "execute_result"
    }
   ],
   "source": [
    "# Cypher query to create constraints\n",
    "create_constraints_query = \"\"\"\n",
    "CREATE CONSTRAINT unique_movie_title IF NOT EXISTS\n",
    "FOR (m:Movie)\n",
    "REQUIRE m.name IS UNIQUE;\n",
    "\"\"\"\n",
    "# Execute the constraints query\n",
    "execute_query(create_constraints_query)\n"
   ]
  },
  {
   "cell_type": "code",
   "execution_count": 23,
   "id": "0fcad76c",
   "metadata": {},
   "outputs": [],
   "source": [
    "# Cypher query to load and process the CSV data\n",
    "load_data_query = \"\"\"\n",
    "LOAD CSV WITH HEADERS FROM 'http://localhost:11001/project-e98c5b11-5b76-4c43-959d-8e3639f4088f/movies.csv' AS row\n",
    "MERGE (m:Movie {title: row.name})\n",
    "ON CREATE SET \n",
    "    m.releaseDate = row.released, \n",
    "    m.genre = row.genre, \n",
    "    m.budget = toFloat(row.budget), \n",
    "    m.gross = toFloat(row.gross), \n",
    "    m.runtime = toFloat(row.runtime), \n",
    "    m.country = row.country, \n",
    "    m.released_year = toInteger(row.year), \n",
    "    m.rating = row.rating\n",
    "// Create Lead node only if row.star is not null\n",
    "FOREACH(ignoreMe IN CASE WHEN row.star IS NOT NULL THEN [1] ELSE [] END |\n",
    "    MERGE (p:Lead {name: row.star}) \n",
    "    MERGE (p)-[:ACTED_IN]->(m))\n",
    "\n",
    "// Create Director node only if row.director is not null\n",
    "FOREACH(ignoreMe IN CASE WHEN row.director IS NOT NULL THEN [1] ELSE [] END |\n",
    "    MERGE (n:Director {name: row.director}) \n",
    "    MERGE (m)-[:DIRECTED_BY]->(n))\n",
    "\n",
    "// Create Writer node only if row.writer is not null\n",
    "FOREACH(ignoreMe IN CASE WHEN row.writer IS NOT NULL THEN [1] ELSE [] END |\n",
    "    MERGE (k:Writer {name: row.writer}) \n",
    "    MERGE (m)-[:WRITTEN_BY]->(k))\n",
    "\n",
    "// Create Production_House node only if row.company is not null\n",
    "FOREACH(ignoreMe IN CASE WHEN row.company IS NOT NULL THEN [1] ELSE [] END |\n",
    "    MERGE (l:Production_House {name: row.company}) \n",
    "    MERGE (m)-[:PRODUCED_BY]->(l))\n",
    "\n",
    "\"\"\"\n",
    "\n",
    "# Execute the load data query\n",
    "results = execute_query(load_data_query)"
   ]
  },
  {
   "cell_type": "code",
   "execution_count": null,
   "id": "d928e059",
   "metadata": {},
   "outputs": [],
   "source": []
  }
 ],
 "metadata": {
  "kernelspec": {
   "display_name": "Python 3 (ipykernel)",
   "language": "python",
   "name": "python3"
  },
  "language_info": {
   "codemirror_mode": {
    "name": "ipython",
    "version": 3
   },
   "file_extension": ".py",
   "mimetype": "text/x-python",
   "name": "python",
   "nbconvert_exporter": "python",
   "pygments_lexer": "ipython3",
   "version": "3.9.16"
  }
 },
 "nbformat": 4,
 "nbformat_minor": 5
}
